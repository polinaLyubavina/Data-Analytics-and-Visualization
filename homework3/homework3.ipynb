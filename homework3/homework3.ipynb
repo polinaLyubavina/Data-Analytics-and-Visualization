{
 "cells": [
  {
   "cell_type": "markdown",
   "metadata": {},
   "source": [
    "# HW3 - Scraping and Regression"
   ]
  },
  {
   "cell_type": "code",
   "execution_count": null,
   "metadata": {},
   "outputs": [],
   "source": [
    "# initial setup\n",
    "\n",
    "from bs4 import BeautifulSoup\n",
    "import urllib.request\n",
    "import requests\n",
    "import numpy as np\n",
    "import scipy as sc\n",
    "import matplotlib.pyplot as plt\n",
    "import statsmodels.formula.api as smf\n",
    "import pandas as pd"
   ]
  },
  {
   "cell_type": "markdown",
   "metadata": {},
   "source": [
    "### Part 1 - Data Acquisition"
   ]
  },
  {
   "cell_type": "code",
   "execution_count": null,
   "metadata": {},
   "outputs": [],
   "source": [
    "# url = \"https://amarioguy.github.io/m1windowsproject/\"\n",
    "\n",
    "# # here we actually access the website\n",
    "# with urllib.request.urlopen( url ) as response:\n",
    "#     html = response.read()\n",
    "#     html = html.decode( 'utf-8' )\n",
    "\n",
    "# # save the file\n",
    "# with open( 'm1windowsproject.html', 'w' ) as new_file:\n",
    "#     new_file.write(html)\n",
    "\n",
    "# soup = BeautifulSoup( html, 'html.parser' )\n",
    "\n",
    "# store data in arrays\n",
    "rank = []\n",
    "title_length = []\n",
    "age_hours = []\n",
    "points = []\n",
    "comments_num = []\n",
    "\n",
    "def scraper(url, n_pages) :\n",
    "\n",
    "    webpage = requests.get(f\"{url}{n_pages}\")\n",
    "    soup = BeautifulSoup(webpage.content, 'html.parser')\n",
    "\n",
    "    # scrape rank\n",
    "    for hit in soup.find_all(\"span\", class_=\"rank\") :      \n",
    "        rank.append(int(hit.text.strip().replace(\".\", \"\")))\n",
    "\n",
    "    # scrape length of title\n",
    "    for hit in soup.find_all(\"a\", class_=\"titlelink\") :\n",
    "        title_length.append(len(hit.text.strip()))\n",
    "\n",
    "    # enter tablerow for age, points, and comments\n",
    "    for row in soup.find_all(\"td\", class_=\"subtext\") :\n",
    "\n",
    "        # scrpe age in hours\n",
    "        hit_age = row.find(\"span\", class_=\"age\").find(\"a\")\n",
    "        if \"minute\" in hit_age.text :\n",
    "            age_hours.append(float(hit_age.text.strip().replace(\" minute ago\", \"\").replace(\" minutes ago\", \"\"))/60)\n",
    "\n",
    "        if \"hour\" in hit_age.text :\n",
    "            age_hours.append(float(hit_age.text.strip().replace(\" hour ago\", \"\").replace(\" hours ago\", \"\")))\n",
    "\n",
    "        if \"day\" in hit_age.text :\n",
    "            age_hours.append(float(hit_age.text.strip().replace(\" day ago\", \"\").replace(\" days ago\", \"\"))*24)\n",
    "\n",
    "        if hit_age is None :\n",
    "            age_hours.append(0)\n",
    "\n",
    "        print(f\"{hit_age.text} {age_hours[-1]}\")\n",
    "\n",
    "        # scrape points\n",
    "        hit_points = row.find(\"span\", class_=\"score\")\n",
    "        if hit_points is None :\n",
    "            points.append(0)\n",
    "        else :\n",
    "            points.append(int(hit_points.text.strip().replace(\" points\", \"\").replace(\" point\", \"\")))\n",
    "\n",
    "        # scrape number of comments\n",
    "        hit_comments = row.find_all(\"a\")[-1]\n",
    "        if \"comments\" in  hit_comments.text :\n",
    "            comments_num.append(int(hit_comments.text.strip().replace(u'\\xa0', u' ').replace(\" comments\", \"\").replace(\" comment\", \"\")))\n",
    "        else :\n",
    "            comments_num.append(0)\n",
    "\n",
    "    if n_pages == 0 :\n",
    "        return\n",
    "    else :\n",
    "        scraper(url, n_pages - 1)\n"
   ]
  },
  {
   "cell_type": "code",
   "execution_count": null,
   "metadata": {},
   "outputs": [],
   "source": [
    "# restart the function by modifying the url with the next logical one\n",
    "\n",
    "# pass url here:\n",
    "url = \"https://news.ycombinator.com/news?p=\"\n",
    "\n",
    "\n",
    "scraper(url, n_pages=5)\n"
   ]
  },
  {
   "cell_type": "code",
   "execution_count": null,
   "metadata": {},
   "outputs": [],
   "source": [
    "# verify that all columns are the same length (150)\n",
    "\n",
    "# print(age_hours)\n",
    "# print(len(age_hours))"
   ]
  },
  {
   "cell_type": "markdown",
   "metadata": {},
   "source": [
    "### Part 2 - Regression"
   ]
  },
  {
   "cell_type": "code",
   "execution_count": null,
   "metadata": {},
   "outputs": [],
   "source": [
    "dataset = pd.DataFrame({'points' : points, 'rank' : rank, 'title_length' : title_length, 'age_hours' : age_hours, 'comments_num' : comments_num})\n",
    "\n",
    "dataset"
   ]
  },
  {
   "cell_type": "code",
   "execution_count": null,
   "metadata": {},
   "outputs": [],
   "source": [
    "# rank against points\n",
    "\n",
    "results = smf.ols('rank ~ points', data=dataset).fit()\n",
    "\n",
    "results.summary()"
   ]
  },
  {
   "cell_type": "code",
   "execution_count": null,
   "metadata": {},
   "outputs": [],
   "source": [
    "# rank against number of comments\n",
    "# you may need to run this a few times before its 150\n",
    "\n",
    "results3 = smf.ols('rank ~ comments_num', data=dataset).fit()\n",
    "\n",
    "results3.summary()"
   ]
  },
  {
   "cell_type": "code",
   "execution_count": null,
   "metadata": {},
   "outputs": [],
   "source": [
    "# rank compared with age in hours\n",
    "\n",
    "results2 = smf.ols('rank ~ age_hours', data=dataset).fit()\n",
    "\n",
    "results2.summary()"
   ]
  },
  {
   "cell_type": "code",
   "execution_count": null,
   "metadata": {},
   "outputs": [],
   "source": [
    "# regress \"expression\" onto \"motifScore\" (plus an intercept)\n",
    "p = results2.params\n",
    "print(p)\n",
    "\n",
    "ax = dataset.plot(x='age_hours', y='rank', kind='scatter')\n",
    "# plot regression line on the same axes, set x-axis limits\n",
    "x=list(range(72))\n",
    "ax.plot(x, p.Intercept + p.age_hours * np.float64(x))\n",
    "ax.set_xlim([0, 72])"
   ]
  },
  {
   "cell_type": "markdown",
   "metadata": {},
   "source": [
    "#### Analysis\n",
    "\n",
    "The most useful regression compares rank against age in hours, which makes up for \n",
    "15% of the ranking according to its R2. The points vs rank, and number of comments vs rank, were both not statistically useful. \n",
    "\n",
    "The least useful are the comments and points. The R2 in comments and points was very low and did not signify a correlation between either comments or points and the ranking. \n",
    "\n",
    "For age in hours, at 0, the value of the Intercept coefficient is 57.3360. And as each hour increases, the ranking increases by 1.5168. This shows that this relation is statistically significant. \n",
    "\n",
    "For number of comments, at 0, the value of the Intercept coefficient is 77.4995. -0.0321\n",
    "\n",
    "For points, at 0, the value of the Intercept coefficient is 76.9751. -0.0121\n",
    "\n",
    "The p-value for Intercept is 0 for all three summaries. The p-value shows the chance that this relation happened by chance. The p-value being 0 shows that the relationship between age in hours and rank, the number of comments and rank, and points and rank, is statistically significant, because it means that it's unlikely to come about by accident. \n",
    "\n",
    "The age in hours and rank is not quite linear, but is also not nonexistent. There is a clear positive trend, but it's probably not linear."
   ]
  },
  {
   "cell_type": "markdown",
   "metadata": {},
   "source": [
    "### Part 3 - Classification"
   ]
  },
  {
   "cell_type": "code",
   "execution_count": null,
   "metadata": {},
   "outputs": [],
   "source": [
    "# make categorical variables into dummy variables\n",
    "dataset['front_page'] = [1 if x <= 30 else 0 for x in dataset['rank']]\n",
    "\n",
    "dataset.tail()"
   ]
  },
  {
   "cell_type": "code",
   "execution_count": null,
   "metadata": {},
   "outputs": [],
   "source": [
    "log_reg = smf.logit('front_page ~ points + title_length + age_hours + comments_num', dataset).fit()\n",
    "\n",
    "log_reg.summary()"
   ]
  },
  {
   "cell_type": "code",
   "execution_count": null,
   "metadata": {},
   "outputs": [],
   "source": [
    "preds = []\n",
    "for index, row in dataset.iterrows() :\n",
    "    preds.append(log_reg.params.Intercept + log_reg.params.points * row.points + log_reg.params.title_length * row.title_length + log_reg.params.age_hours * row.age_hours + log_reg.params.comments_num * row.comments_num)\n",
    "    \n",
    "dataset[\"my_preds\"] = preds\n",
    "\n",
    "ax = dataset.plot(x='rank', y='my_preds', kind='scatter')\n",
    "\n",
    "x=list(range(150))\n",
    "ax.plot(x, [-1.5 for x in range(150)])\n",
    "ax.set_xlim([0, 150])"
   ]
  },
  {
   "cell_type": "code",
   "execution_count": null,
   "metadata": {},
   "outputs": [],
   "source": [
    "# HN ranking algorithm found on the web (points - 1)^0.8 / (age_hours + 2)^1.8\n",
    "\n",
    "preds = []\n",
    "for index, row in dataset.iterrows() :\n",
    "    preds.append((row.points - 1)**0.8 / (row.age_hours + 2)**1.8)\n",
    "    \n",
    "dataset[\"outdated_preds\"] = preds\n",
    "\n",
    "ax = dataset.plot(x='rank', y='outdated_preds', kind='scatter')\n",
    "\n",
    "x=list(range(150))\n",
    "ax.plot(x, [0.75 for x in range(150)])\n",
    "ax.set_xlim([0, 150])\n"
   ]
  },
  {
   "cell_type": "markdown",
   "metadata": {},
   "source": [
    "#### Analysis\n",
    "\n",
    "My model does a decent job at predicting what will be on the front page. The coefficient for points is 0.0132, the points is positive and so a story is more likely to be on the front page as its points increase. The age_hours coefficient -0.2746 has a large magnitude and shows that an older post is less likely to be on the front page. Age in hours has more impact than number of points. "
   ]
  }
 ],
 "metadata": {
  "interpreter": {
   "hash": "59f3145cc67fcda0343c2852f1f97113a2e6e98841e887156424448e7071ad54"
  },
  "kernelspec": {
   "display_name": "Python 3.9.6 ('base')",
   "language": "python",
   "name": "python3"
  },
  "language_info": {
   "codemirror_mode": {
    "name": "ipython",
    "version": 3
   },
   "file_extension": ".py",
   "mimetype": "text/x-python",
   "name": "python",
   "nbconvert_exporter": "python",
   "pygments_lexer": "ipython3",
   "version": "3.9.6"
  },
  "orig_nbformat": 4
 },
 "nbformat": 4,
 "nbformat_minor": 2
}
