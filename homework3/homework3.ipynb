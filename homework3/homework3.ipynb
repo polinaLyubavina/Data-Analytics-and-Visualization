{
 "cells": [
  {
   "cell_type": "markdown",
   "metadata": {},
   "source": [
    "# HW3 - Scraping and Regression"
   ]
  },
  {
   "cell_type": "code",
   "execution_count": 17,
   "metadata": {},
   "outputs": [],
   "source": [
    "# initial setup\n",
    "\n",
    "from bs4 import BeautifulSoup\n",
    "import urllib.request\n",
    "import requests"
   ]
  },
  {
   "cell_type": "markdown",
   "metadata": {},
   "source": [
    "### Part 1 - Data Acquisition"
   ]
  },
  {
   "cell_type": "code",
   "execution_count": 61,
   "metadata": {},
   "outputs": [],
   "source": [
    "# url = \"https://amarioguy.github.io/m1windowsproject/\"\n",
    "\n",
    "# # here we actually access the website\n",
    "# with urllib.request.urlopen( url ) as response:\n",
    "#     html = response.read()\n",
    "#     html = html.decode( 'utf-8' )\n",
    "\n",
    "# # save the file\n",
    "# with open( 'm1windowsproject.html', 'w' ) as new_file:\n",
    "#     new_file.write(html)\n",
    "\n",
    "# soup = BeautifulSoup( html, 'html.parser' )\n",
    "\n",
    "# store data in arrays\n",
    "rank = []\n",
    "title_length = []\n",
    "age_hours = []\n",
    "points = []\n",
    "comments_num = []\n",
    "\n",
    "def scraper(url, n_pages) :\n",
    "\n",
    "    webpage = requests.get(f\"{url}{n_pages}\")\n",
    "    soup = BeautifulSoup(webpage.content, 'html.parser')\n",
    "\n",
    "    # scrape rank\n",
    "    for hit in soup.find_all(\"span\", class_=\"rank\") :      \n",
    "        rank.append(int(hit.text.strip().replace(\".\", \"\")))\n",
    "\n",
    "    # scrape length of title\n",
    "    for hit in soup.find_all(\"a\", class_=\"titlelink\") :\n",
    "        title_length.append(len(hit.text.strip()))\n",
    "\n",
    "    # enter tablerow for age, points, and comments\n",
    "    for row in soup.find_all(\"td\", class_=\"subtext\") :\n",
    "\n",
    "        # scrpe age in hours\n",
    "        hit_age = row.find(\"span\", class_=\"age\").find(\"a\")\n",
    "        if \"minute\" in hit_age :\n",
    "            age_hours.append(float(hit_age.text.strip().replace(\" minute ago\", \"\").replace(\" minutes ago\", \"\"))/60)\n",
    "\n",
    "        if \"hours\" in hit_age :\n",
    "            age_hours.append(float(hit_age.text.strip().replace(\" hour ago\", \"\").replace(\" hours ago\", \"\")))\n",
    "\n",
    "        if \"day\" in hit_age :\n",
    "            age_hours.append(float(hit_age.text.strip().replace(\" day ago\", \"\").replace(\" days ago\", \"\"))*24)\n",
    "\n",
    "        # scrape points\n",
    "        hit_points = row.find(\"span\", class_=\"score\")\n",
    "        if hit_points is None :\n",
    "            points.append(0)\n",
    "        else :\n",
    "            points.append(int(hit_points.text.strip().replace(\" points\", \"\").replace(\" point\", \"\")))\n",
    "\n",
    "        # scrape number of comments\n",
    "        hit_comments = row.find_all(\"a\")[-1]\n",
    "        if \"comments\" in  hit_comments.text :\n",
    "            comments_num.append(int(hit_comments.text.strip().replace(u'\\xa0', u' ').replace(\" comments\", \"\").replace(\" comment\", \"\")))\n",
    "        else :\n",
    "            comments_num.append(0)\n",
    "\n",
    "    if n_pages == 0 :\n",
    "        return\n",
    "    else :\n",
    "        scraper(url, n_pages - 1)\n"
   ]
  },
  {
   "cell_type": "code",
   "execution_count": 62,
   "metadata": {},
   "outputs": [],
   "source": [
    "# restart the function by modifying the url with the next logical one\n",
    "\n",
    "# pass url here:\n",
    "url = \"https://news.ycombinator.com/news?p=\"\n",
    "\n",
    "\n",
    "scraper(url, n_pages=5)\n"
   ]
  },
  {
   "cell_type": "code",
   "execution_count": 64,
   "metadata": {},
   "outputs": [
    {
     "name": "stdout",
     "output_type": "stream",
     "text": [
      "[121, 122, 123, 124, 125, 126, 127, 128, 129, 130, 131, 132, 133, 134, 135, 136, 137, 138, 139, 140, 141, 142, 143, 144, 145, 146, 147, 148, 149, 150, 91, 92, 93, 94, 95, 96, 97, 98, 99, 100, 101, 102, 103, 104, 105, 106, 107, 108, 109, 110, 111, 112, 113, 114, 115, 116, 117, 118, 119, 120, 61, 62, 63, 64, 65, 66, 67, 68, 69, 70, 71, 72, 73, 74, 75, 76, 77, 78, 79, 80, 81, 82, 83, 84, 85, 86, 87, 88, 89, 90, 31, 32, 33, 34, 35, 36, 37, 38, 39, 40, 41, 42, 43, 44, 45, 46, 47, 48, 49, 50, 51, 52, 53, 54, 55, 56, 57, 58, 59, 60, 1, 2, 3, 4, 5, 6, 7, 8, 9, 10, 11, 12, 13, 14, 15, 16, 17, 18, 19, 20, 21, 22, 23, 24, 25, 26, 27, 28, 29, 30]\n",
      "150\n"
     ]
    }
   ],
   "source": [
    "print(rank)\n",
    "print(len(rank))"
   ]
  },
  {
   "cell_type": "code",
   "execution_count": null,
   "metadata": {},
   "outputs": [],
   "source": []
  },
  {
   "cell_type": "markdown",
   "metadata": {},
   "source": [
    "### Part 2 - Regression"
   ]
  },
  {
   "cell_type": "code",
   "execution_count": null,
   "metadata": {},
   "outputs": [],
   "source": []
  },
  {
   "cell_type": "markdown",
   "metadata": {},
   "source": [
    "### Part 3 - Classification"
   ]
  },
  {
   "cell_type": "code",
   "execution_count": null,
   "metadata": {},
   "outputs": [],
   "source": []
  }
 ],
 "metadata": {
  "interpreter": {
   "hash": "59f3145cc67fcda0343c2852f1f97113a2e6e98841e887156424448e7071ad54"
  },
  "kernelspec": {
   "display_name": "Python 3.9.6 ('base')",
   "language": "python",
   "name": "python3"
  },
  "language_info": {
   "codemirror_mode": {
    "name": "ipython",
    "version": 3
   },
   "file_extension": ".py",
   "mimetype": "text/x-python",
   "name": "python",
   "nbconvert_exporter": "python",
   "pygments_lexer": "ipython3",
   "version": "3.9.6"
  },
  "orig_nbformat": 4
 },
 "nbformat": 4,
 "nbformat_minor": 2
}
