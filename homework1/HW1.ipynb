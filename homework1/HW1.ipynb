{
 "cells": [
  {
   "cell_type": "markdown",
   "metadata": {},
   "source": [
    "Polina Lyubavina\n",
    "\n",
    "u0895721\n",
    "\n",
    "HW # 1"
   ]
  },
  {
   "cell_type": "markdown",
   "metadata": {},
   "source": [
    "## Part 1 : Warmup"
   ]
  },
  {
   "cell_type": "code",
   "execution_count": null,
   "metadata": {},
   "outputs": [],
   "source": [
    "#imports and setup\n",
    "\n",
    "from scipy.stats import norm \n",
    "from math import sqrt\n",
    "import numpy as np\n",
    "import pandas as pd\n",
    "import matplotlib.pyplot as plt\n",
    "from datetime import datetime"
   ]
  },
  {
   "cell_type": "markdown",
   "metadata": {},
   "source": [
    "##### 2)"
   ]
  },
  {
   "cell_type": "code",
   "execution_count": null,
   "metadata": {},
   "outputs": [],
   "source": [
    "#Create an array of 100 random numbers:\n",
    "my_array = [np.random.randint(1000) for num in range(100)]\n",
    "\n",
    "print(my_array)"
   ]
  },
  {
   "cell_type": "markdown",
   "metadata": {},
   "source": [
    "##### 3)"
   ]
  },
  {
   "cell_type": "markdown",
   "metadata": {},
   "source": [
    "Functions to compute the array's mean and standard deviation:"
   ]
  },
  {
   "cell_type": "code",
   "execution_count": null,
   "metadata": {},
   "outputs": [],
   "source": [
    "# a) mean\n",
    "def compute_mean(arr) :\n",
    "\n",
    "    #sum begins at 0 and gets modified in the for loop with values from the array\n",
    "    sum = 0\n",
    "    \n",
    "    for num in range(0, len(arr)) :\n",
    "        sum = sum + arr[num]\n",
    "    mean_result = sum / len(arr)\n",
    "\n",
    "    # print(\"The mean of all elements in the array is: \", mean_result)\n",
    "    return mean_result\n",
    "\n",
    "compute_mean(my_array)"
   ]
  },
  {
   "cell_type": "code",
   "execution_count": null,
   "metadata": {},
   "outputs": [],
   "source": [
    "# b) standard deviation\n",
    "def compute_std(arr) :\n",
    "\n",
    "    sum_of_differences = 0\n",
    "    mean = compute_mean(arr)\n",
    "\n",
    "    for num in range(0, len(arr)) :\n",
    "        #find differences and then square root\n",
    "        sum_of_differences += (mean - arr[num]) ** 2\n",
    "    std_result = sqrt(sum_of_differences / len(arr))\n",
    "\n",
    "    # print(\"The standard deviation of all elements in the array is: \", std_result)\n",
    "    return std_result\n",
    "\n",
    "compute_std(my_array)"
   ]
  },
  {
   "cell_type": "markdown",
   "metadata": {},
   "source": [
    "##### Verify Results"
   ]
  },
  {
   "cell_type": "code",
   "execution_count": null,
   "metadata": {},
   "outputs": [],
   "source": [
    "# Check that NumPy mean() returns a similar result:\n",
    "def numpy_compute_mean(arr) :\n",
    "    result = np.mean(arr)\n",
    "    return result\n",
    "\n",
    "numpy_compute_mean(my_array)"
   ]
  },
  {
   "cell_type": "code",
   "execution_count": null,
   "metadata": {},
   "outputs": [],
   "source": [
    "# Check that NumPy std() returns a similar result: \n",
    "def numpy_compute_std(arr) :\n",
    "    result = np.std(arr)\n",
    "    return result\n",
    "\n",
    "numpy_compute_std(my_array)"
   ]
  },
  {
   "cell_type": "markdown",
   "metadata": {},
   "source": [
    "##### 4)"
   ]
  },
  {
   "cell_type": "code",
   "execution_count": null,
   "metadata": {},
   "outputs": [],
   "source": [
    "my_second_array = [np.random.randint(1000) for num in range(100000)]\n",
    "\n",
    "my_second_mean = compute_mean(my_second_array)\n",
    "my_second_std = compute_std(my_second_array)\n",
    "\n",
    "numpy_second_mean = numpy_compute_mean(my_second_array)\n",
    "numpy_second_std = numpy_compute_std(my_second_array)\n",
    "\n",
    "display(my_second_mean, my_second_std, numpy_second_mean, numpy_second_std)\n"
   ]
  },
  {
   "cell_type": "markdown",
   "metadata": {},
   "source": [
    "When the number of random numbers is increased, the mean and standard deviation increase accordingly. "
   ]
  },
  {
   "cell_type": "markdown",
   "metadata": {},
   "source": [
    "#### 5) "
   ]
  },
  {
   "cell_type": "code",
   "execution_count": null,
   "metadata": {},
   "outputs": [],
   "source": [
    "my_thousands_array = np.array(norm.rvs(size=10000))\n",
    "\n",
    "# print(my_thousands_array)\n",
    "\n",
    "#compute mean and standard deviation using my functions\n",
    "my_mean = compute_mean(my_thousands_array)\n",
    "my_std = compute_std(my_thousands_array)\n",
    "\n",
    "print(\"The mean using my compute_mean function is: \", my_mean)\n",
    "print(\"The standard deviation using my compute_std function is: \", my_std)\n",
    "\n",
    "#compute mean and standard deviation using numpy functions\n",
    "numpy_mean = numpy_compute_mean(my_thousands_array)\n",
    "numpy_std = numpy_compute_std(my_thousands_array)\n",
    "\n",
    "print(\"The mean using numpy mean function is: \", numpy_mean)\n",
    "print(\"The standard deviation using numpy std function is: \", numpy_std)\n"
   ]
  },
  {
   "cell_type": "markdown",
   "metadata": {},
   "source": [
    "The results of the mean and std dev tell us that Numpy's rand function produces a normal distribution. We can see that by the mean being roughly 0 and standard deviation being roughly 1, give or take some inherent randomness"
   ]
  },
  {
   "cell_type": "markdown",
   "metadata": {},
   "source": [
    "##### 6)"
   ]
  },
  {
   "cell_type": "code",
   "execution_count": null,
   "metadata": {},
   "outputs": [],
   "source": [
    "#ready the histogram\n",
    "\n",
    "mu = my_mean\n",
    "sigma = my_std\n",
    "x = np.arange(mu-4*sigma, mu+4*sigma)\n",
    "pdf = norm.pdf(x, loc=mu, scale=sigma)"
   ]
  },
  {
   "cell_type": "code",
   "execution_count": null,
   "metadata": {},
   "outputs": [],
   "source": [
    "#plot a histogram using 10 bins\n",
    "\n",
    "plt.hist(my_thousands_array, bins=10, density=True)\n",
    "plt.plot(x, pdf, linewidth=2, color='k')\n",
    "plt.title(\"Ten Thousand Array Normal Distribution\")\n",
    "plt.show()"
   ]
  },
  {
   "cell_type": "code",
   "execution_count": null,
   "metadata": {},
   "outputs": [],
   "source": [
    "#plot a histogram using 20 bins\n",
    "\n",
    "plt.hist(my_thousands_array, bins=20, density=True)\n",
    "plt.plot(x, pdf, linewidth=2, color='k')\n",
    "plt.title(\"Ten Thousand Array Normal Distribution\")\n",
    "plt.show()"
   ]
  },
  {
   "cell_type": "code",
   "execution_count": null,
   "metadata": {},
   "outputs": [],
   "source": [
    "#plot a histogram using 40 bins\n",
    "\n",
    "plt.hist(my_thousands_array, bins=40, density=True)\n",
    "plt.plot(x, pdf, linewidth=2, color='k')\n",
    "plt.title(\"Ten Thousand Array Normal Distribution\")\n",
    "plt.show()"
   ]
  },
  {
   "cell_type": "markdown",
   "metadata": {},
   "source": [
    "## Part 2 : Data Exploration/Analysis"
   ]
  },
  {
   "cell_type": "markdown",
   "metadata": {},
   "source": [
    "##### 1)"
   ]
  },
  {
   "cell_type": "code",
   "execution_count": null,
   "metadata": {},
   "outputs": [],
   "source": [
    "sensor_measurements = pd.read_csv(\"2021-PM2.5.csv\")\n",
    "\n",
    "sensor_measurements.head()"
   ]
  },
  {
   "cell_type": "code",
   "execution_count": null,
   "metadata": {},
   "outputs": [],
   "source": [
    "annual_hourly_data = sensor_measurements[[\"Date\", \"H3-MC-CO\"]]\n",
    "annual_hourly_data.head()\n",
    "\n",
    "# date_measurements = sensor_measurements[\"Date\"]\n",
    "# # date_measurements[\"Date\"].astype('string')\n",
    "# date_measurements.head()\n"
   ]
  },
  {
   "cell_type": "code",
   "execution_count": null,
   "metadata": {},
   "outputs": [],
   "source": [
    "# station_measurements = sensor_measurements[\"H3-MC-CO\"]\n",
    "# # station_measurements[\"H3-MC-CO\"].astype('float')\n",
    "# station_measurements.head()"
   ]
  },
  {
   "cell_type": "markdown",
   "metadata": {},
   "source": [
    "##### 2)"
   ]
  },
  {
   "cell_type": "code",
   "execution_count": null,
   "metadata": {},
   "outputs": [],
   "source": [
    "# %matplotlib inline\n",
    "\n",
    "# fig = plt.figure(fiszie = (12, 10))\n",
    "\n",
    "# x-axis labels\n",
    "\n",
    "# add title\n",
    "# plt.title(\"2021 SLC PM 2.5\")\n",
    "\n",
    "#Creating the box plot\n",
    "# plt.boxplot(annual_hourly_data)\n",
    "# plt.boxplot(date_measurements, station_measurements)\n",
    "plt.style.use('ggplot')\n",
    "annual_hourly_data[[\"H3-MC-CO\"]].plot(kind=\"line\", title=\"2021 SLC PM 2.5\")\n",
    "\n",
    "plt.show()"
   ]
  },
  {
   "cell_type": "markdown",
   "metadata": {},
   "source": [
    "##### 3)"
   ]
  },
  {
   "cell_type": "code",
   "execution_count": null,
   "metadata": {},
   "outputs": [],
   "source": [
    "annual_hourly_data.index = pd.to_datetime(annual_hourly_data.Date)\n",
    "monthly_means = annual_hourly_data.groupby(lambda x: x.month).agg(np.mean)\n",
    "\n",
    "monthly_means.plot(kind=\"bar\")"
   ]
  },
  {
   "cell_type": "code",
   "execution_count": null,
   "metadata": {},
   "outputs": [],
   "source": [
    "hourly_means = annual_hourly_data.groupby(lambda x: x.hour).agg(np.mean)\n",
    "\n",
    "hourly_means.plot(kind=\"bar\")"
   ]
  },
  {
   "cell_type": "markdown",
   "metadata": {},
   "source": [
    "We can draw the conclusion that air polution is more than 0 at all times. The air polution rises later in the day and is the least earlier in the day. \n",
    "The air polution peaks in the month of August."
   ]
  },
  {
   "cell_type": "markdown",
   "metadata": {},
   "source": [
    "##### 4)"
   ]
  },
  {
   "cell_type": "code",
   "execution_count": null,
   "metadata": {},
   "outputs": [],
   "source": [
    "annual_hourly_data.index = pd.to_datetime(annual_hourly_data.Date)\n",
    "monthly_means = annual_hourly_data.groupby(lambda x: x.month).agg(np.mean)\n",
    "\n",
    "monthly_means.plot(kind=\"box\")"
   ]
  },
  {
   "cell_type": "code",
   "execution_count": null,
   "metadata": {},
   "outputs": [],
   "source": [
    "hourly_means = annual_hourly_data.groupby(lambda x: x.hour).agg(np.mean)\n",
    "\n",
    "hourly_means.plot(kind=\"box\")"
   ]
  },
  {
   "cell_type": "markdown",
   "metadata": {},
   "source": [
    "Here we can see that there are outliers in the data. The outliers show that the average rate of polution is actually slightly lower. "
   ]
  }
 ],
 "metadata": {
  "interpreter": {
   "hash": "59f3145cc67fcda0343c2852f1f97113a2e6e98841e887156424448e7071ad54"
  },
  "kernelspec": {
   "display_name": "Python 3.9.6 ('base')",
   "language": "python",
   "name": "python3"
  },
  "language_info": {
   "codemirror_mode": {
    "name": "ipython",
    "version": 3
   },
   "file_extension": ".py",
   "mimetype": "text/x-python",
   "name": "python",
   "nbconvert_exporter": "python",
   "pygments_lexer": "ipython3",
   "version": "3.9.6"
  },
  "orig_nbformat": 4
 },
 "nbformat": 4,
 "nbformat_minor": 2
}
